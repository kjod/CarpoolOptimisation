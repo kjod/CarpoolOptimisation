{
 "cells": [
  {
   "cell_type": "code",
   "execution_count": 2,
   "metadata": {
    "collapsed": true
   },
   "outputs": [],
   "source": [
    "import matplotlib.pyplot as plt\n",
    "import pandas as pd\n",
    "import matplotlib.patches as mpatches\n",
    "from mpl_toolkits.axes_grid.axislines import Subplot"
   ]
  },
  {
   "cell_type": "code",
   "execution_count": 15,
   "metadata": {
    "collapsed": false,
    "scrolled": false
   },
   "outputs": [
    {
     "data": {
      "text/plain": [
       "Gen       int64\n",
       "100     float64\n",
       "250     float64\n",
       "1000    float64\n",
       "2500    float64\n",
       "5000    float64\n",
       "dtype: object"
      ]
     },
     "execution_count": 15,
     "metadata": {},
     "output_type": "execute_result"
    }
   ],
   "source": [
    "data = pd.read_csv(\"C:\\\\cygwin\\\\home\\\\Kieran\\\\FYP\\\\src\\\\main\\\\java\\\\popSize.csv\")\n",
    "data.dtypes"
   ]
  },
  {
   "cell_type": "code",
   "execution_count": 16,
   "metadata": {
    "collapsed": false
   },
   "outputs": [],
   "source": [
    "x = data['Gen']\n",
    "fig = plt.figure()\n",
    "ax = Subplot(fig, 111)\n",
    "fig.add_subplot(ax)\n",
    "ax.axis[\"right\"].set_visible(False)\n",
    "ax.axis[\"top\"].set_visible(False)\n",
    "\n",
    "fig.suptitle('Population Size')\n",
    "fig.set_facecolor('white')\n",
    "plt.grid(True)\n",
    "plt.xlabel('Generations')\n",
    "plt.ylabel('Fitness')\n",
    "line1 = plt.plot(x, data['100'], linewidth=1.0, label=\"100\")\n",
    "line2 = plt.plot(x, data['250'], linewidth=1.0, label=\"250\")\n",
    "line3 = plt.plot(x, data['1000'], linewidth=1.0, label=\"1000\")\n",
    "line4 = plt.plot(x, data['2500'], linewidth=1.0, label=\"2500\")\n",
    "line5 = plt.plot(x, data['5000'], linewidth=1.0, label=\"5000\")\n",
    "labels = [\"100\", \"250\", \"1000\", \"2500\", \"5000\"]\n",
    "plt.legend(labels)\n",
    "plt.show()"
   ]
  },
  {
   "cell_type": "code",
   "execution_count": 17,
   "metadata": {
    "collapsed": false
   },
   "outputs": [
    {
     "data": {
      "text/plain": [
       "Gen       int64\n",
       "0       float64\n",
       "0.25    float64\n",
       "0.5     float64\n",
       "0.75    float64\n",
       "1       float64\n",
       "dtype: object"
      ]
     },
     "execution_count": 17,
     "metadata": {},
     "output_type": "execute_result"
    }
   ],
   "source": [
    "data = pd.read_csv(\"C:\\\\cygwin\\\\home\\\\Kieran\\\\FYP\\\\src\\\\main\\\\java\\\\CrossoverPoints.csv\")\n",
    "data.dtypes"
   ]
  },
  {
   "cell_type": "code",
   "execution_count": 18,
   "metadata": {
    "collapsed": true
   },
   "outputs": [],
   "source": [
    "x = data['Gen']\n",
    "fig = plt.figure()\n",
    "ax = Subplot(fig, 111)\n",
    "fig.add_subplot(ax)\n",
    "ax.axis[\"right\"].set_visible(False)\n",
    "ax.axis[\"top\"].set_visible(False)\n",
    "\n",
    "fig.suptitle('Crossover Percentage')\n",
    "fig.set_facecolor('white')\n",
    "plt.grid(True)\n",
    "plt.xlabel('Generations')\n",
    "plt.ylabel('Fitness')\n",
    "line4 = plt.plot(x, data['0'], linewidth=1.0, label=\"0\")\n",
    "line1 = plt.plot(x, data['0.25'], linewidth=1.0, label=\"0.25\")\n",
    "line2 = plt.plot(x, data['0.5'], linewidth=1.0, label=\"0.5\")\n",
    "line3 = plt.plot(x, data['0.75'], linewidth=1.0, label=\"0.75\")\n",
    "line5 = plt.plot(x, data['1'], linewidth=1.0, label=\"1\")\n",
    "labels = [\"0%\", \"25%\", \"50%\", \"75%\", \"100%\"]\n",
    "plt.legend(labels)\n",
    "plt.show()"
   ]
  },
  {
   "cell_type": "code",
   "execution_count": 6,
   "metadata": {
    "collapsed": false
   },
   "outputs": [
    {
     "data": {
      "text/plain": [
       "Gen       int64\n",
       "0       float64\n",
       "0.25    float64\n",
       "0.5     float64\n",
       "0.75    float64\n",
       "0.8     float64\n",
       "1       float64\n",
       "dtype: object"
      ]
     },
     "execution_count": 6,
     "metadata": {},
     "output_type": "execute_result"
    }
   ],
   "source": [
    "data = pd.read_csv(\"C:\\\\cygwin\\\\home\\\\Kieran\\\\FYP\\\\src\\\\main\\\\java\\\\CopyRates.csv\")\n",
    "data.dtypes"
   ]
  },
  {
   "cell_type": "code",
   "execution_count": 7,
   "metadata": {
    "collapsed": false
   },
   "outputs": [],
   "source": [
    "x = data['Gen']\n",
    "fig = plt.figure()\n",
    "ax = Subplot(fig, 111)\n",
    "fig.add_subplot(ax)\n",
    "ax.axis[\"right\"].set_visible(False)\n",
    "ax.axis[\"top\"].set_visible(False)\n",
    "\n",
    "fig.suptitle('Copy and Crossover Rates with Elitist Model')\n",
    "fig.set_facecolor('white')\n",
    "plt.grid(True)\n",
    "plt.xlabel('Generations')\n",
    "plt.ylabel('Fitness')\n",
    "line1 = plt.plot(x, data['0'], linewidth=1.0, label=\"0\")\n",
    "line2 = plt.plot(x, data['0.25'], linewidth=1.0, label=\"0.25\")\n",
    "line3 = plt.plot(x, data['0.5'], linewidth=1.0, label=\"0.5\")\n",
    "line4 = plt.plot(x, data['0.75'], linewidth=1.0, label=\"0.75\")\n",
    "#line5 = plt.plot(x, data['0.8'], linewidth=1.0, label=\"0.8\")\n",
    "line5 = plt.plot(x, data['1'], linewidth=1.0, label=\"1\")\n",
    "labels = [\"0%\", \"25%\", \"50%\", \"75%\", \"100%\"]\n",
    "plt.legend(labels)\n",
    "plt.show()"
   ]
  },
  {
   "cell_type": "code",
   "execution_count": 8,
   "metadata": {
    "collapsed": false
   },
   "outputs": [
    {
     "data": {
      "text/plain": [
       "Gen       int64\n",
       "0       float64\n",
       "0.25    float64\n",
       "0.5     float64\n",
       "0.75    float64\n",
       "1       float64\n",
       "dtype: object"
      ]
     },
     "execution_count": 8,
     "metadata": {},
     "output_type": "execute_result"
    }
   ],
   "source": [
    "data = pd.read_csv(\"C:\\\\cygwin\\\\home\\\\Kieran\\\\FYP\\\\src\\\\main\\\\java\\\\CopyRateswithoutElite.csv\")\n",
    "data.dtypes"
   ]
  },
  {
   "cell_type": "code",
   "execution_count": 9,
   "metadata": {
    "collapsed": false
   },
   "outputs": [],
   "source": [
    "x = data['Gen']\n",
    "fig = plt.figure()\n",
    "ax = Subplot(fig, 111)\n",
    "fig.add_subplot(ax)\n",
    "ax.axis[\"right\"].set_visible(False)\n",
    "ax.axis[\"top\"].set_visible(False)\n",
    "\n",
    "fig.suptitle('Copy and Crossover Rates without Elitist Model')\n",
    "fig.set_facecolor('white')\n",
    "plt.grid(True)\n",
    "plt.xlabel('Generations')\n",
    "plt.ylabel('Fitness')\n",
    "line1 = plt.plot(x, data['0'], linewidth=1.0, label=\"0\")\n",
    "line2 = plt.plot(x, data['0.25'], linewidth=1.0, label=\"0.25\")\n",
    "line3 = plt.plot(x, data['0.5'], linewidth=1.0, label=\"0.5\")\n",
    "line4 = plt.plot(x, data['0.75'], linewidth=1.0, label=\"0.75\")\n",
    "#line5 = plt.plot(x, data['0.8'], linewidth=1.0, label=\"0.8\")\n",
    "line5 = plt.plot(x, data['1'], linewidth=1.0, label=\"1\")\n",
    "labels = [\"0%\", \"25%\", \"50%\", \"75%\", \"100%\"]\n",
    "plt.legend(labels)\n",
    "plt.show()"
   ]
  },
  {
   "cell_type": "code",
   "execution_count": 26,
   "metadata": {
    "collapsed": false
   },
   "outputs": [
    {
     "data": {
      "text/plain": [
       "Gen      int64\n",
       "5      float64\n",
       "10     float64\n",
       "15     float64\n",
       "dtype: object"
      ]
     },
     "execution_count": 26,
     "metadata": {},
     "output_type": "execute_result"
    }
   ],
   "source": [
    "data = pd.read_csv(\"C:\\\\cygwin\\\\home\\\\Kieran\\\\FYP\\\\src\\\\main\\\\java\\\\CompetingSize.csv\")\n",
    "data.dtypes"
   ]
  },
  {
   "cell_type": "code",
   "execution_count": 27,
   "metadata": {
    "collapsed": false
   },
   "outputs": [],
   "source": [
    "x = data['Gen']\n",
    "fig = plt.figure()\n",
    "ax = Subplot(fig, 111)\n",
    "fig.add_subplot(ax)\n",
    "ax.axis[\"right\"].set_visible(False)\n",
    "ax.axis[\"top\"].set_visible(False)\n",
    "\n",
    "fig.suptitle('Competing Size without Penalisation')\n",
    "fig.set_facecolor('white')\n",
    "plt.grid(True)\n",
    "plt.xlabel('Generations')\n",
    "plt.ylabel('Fitness')\n",
    "line1 = plt.plot(x, data['5'], linewidth=1.0, label=\"5\")\n",
    "line2 = plt.plot(x, data['10'], linewidth=1.0, label=\"10\")\n",
    "line3 = plt.plot(x, data['15'], linewidth=1.0, label=\"15\")\n",
    "labels = [\"5\", \"10\", \"15\"]\n",
    "plt.legend(labels)\n",
    "plt.show()"
   ]
  },
  {
   "cell_type": "code",
   "execution_count": 3,
   "metadata": {
    "collapsed": false
   },
   "outputs": [
    {
     "data": {
      "text/plain": [
       "Gen      int64\n",
       "5      float64\n",
       "10     float64\n",
       "15     float64\n",
       "dtype: object"
      ]
     },
     "execution_count": 3,
     "metadata": {},
     "output_type": "execute_result"
    }
   ],
   "source": [
    "data = pd.read_csv(\"C:\\\\cygwin\\\\home\\\\Kieran\\\\FYP\\\\src\\\\main\\\\java\\\\CompetingSizePenalisation.csv\")\n",
    "data.dtypes"
   ]
  },
  {
   "cell_type": "code",
   "execution_count": 25,
   "metadata": {
    "collapsed": true
   },
   "outputs": [],
   "source": [
    "x = data['Gen']\n",
    "fig = plt.figure()\n",
    "ax = Subplot(fig, 111)\n",
    "fig.add_subplot(ax)\n",
    "ax.axis[\"right\"].set_visible(False)\n",
    "ax.axis[\"top\"].set_visible(False)\n",
    "\n",
    "fig.suptitle('Competing Size with Penalisation')\n",
    "fig.set_facecolor('white')\n",
    "plt.grid(True)\n",
    "plt.xlabel('Generations')\n",
    "plt.ylabel('Fitness')\n",
    "line1 = plt.plot(x, data['5'], linewidth=1.0, label=\"5\")\n",
    "line2 = plt.plot(x, data['10'], linewidth=1.0, label=\"10\")\n",
    "line3 = plt.plot(x, data['15'], linewidth=1.0, label=\"15\")\n",
    "labels = [\"5\", \"10\", \"15\"]\n",
    "plt.legend(labels)\n",
    "plt.show()"
   ]
  },
  {
   "cell_type": "code",
   "execution_count": 4,
   "metadata": {
    "collapsed": false
   },
   "outputs": [
    {
     "data": {
      "text/plain": [
       "Gen       int64\n",
       "0       float64\n",
       "0.01    float64\n",
       "0.05    float64\n",
       "0.1     float64\n",
       "0.25    float64\n",
       "0.5     float64\n",
       "dtype: object"
      ]
     },
     "execution_count": 4,
     "metadata": {},
     "output_type": "execute_result"
    }
   ],
   "source": [
    "data = pd.read_csv(\"C:\\\\cygwin\\\\home\\\\Kieran\\\\FYP\\\\src\\\\main\\\\java\\\\MutateRates.csv\")\n",
    "data.dtypes"
   ]
  },
  {
   "cell_type": "code",
   "execution_count": 5,
   "metadata": {
    "collapsed": false
   },
   "outputs": [],
   "source": [
    "x = data['Gen']\n",
    "fig = plt.figure()\n",
    "ax = Subplot(fig, 111)\n",
    "fig.add_subplot(ax)\n",
    "ax.axis[\"right\"].set_visible(False)\n",
    "ax.axis[\"top\"].set_visible(False)\n",
    "\n",
    "fig.suptitle('Mutate Rates')\n",
    "fig.set_facecolor('white')\n",
    "plt.grid(True)\n",
    "plt.xlabel('Generations')\n",
    "plt.ylabel('Fitness')\n",
    "line1 = plt.plot(x, data['0'], linewidth=1.0, label=\"0\")\n",
    "line1 = plt.plot(x, data['0.01'], linewidth=1.0, label=\"0.01\")\n",
    "line2 = plt.plot(x, data['0.05'], linewidth=1.0, label=\"0.05\")\n",
    "line3 = plt.plot(x, data['0.1'], linewidth=1.0, label=\"0.1\")\n",
    "line4 = plt.plot(x, data['0.25'], linewidth=1.0, label=\"0.25\")\n",
    "labels = [\"0\", \"0.01\", \"0.05\", \"0.1\", \"0.25\"]\n",
    "plt.legend(labels)\n",
    "plt.show()"
   ]
  },
  {
   "cell_type": "code",
   "execution_count": 10,
   "metadata": {
    "collapsed": false
   },
   "outputs": [
    {
     "data": {
      "text/plain": [
       "Gen      int64\n",
       "100    float64\n",
       "200    float64\n",
       "300    float64\n",
       "dtype: object"
      ]
     },
     "execution_count": 10,
     "metadata": {},
     "output_type": "execute_result"
    }
   ],
   "source": [
    "data = pd.read_csv(\"C:\\\\cygwin\\\\home\\\\Kieran\\\\FYP\\\\src\\\\main\\\\java\\\\UserRates.csv\")\n",
    "data.dtypes"
   ]
  },
  {
   "cell_type": "code",
   "execution_count": 11,
   "metadata": {
    "collapsed": true
   },
   "outputs": [],
   "source": [
    "x = data['Gen']\n",
    "fig = plt.figure()\n",
    "ax = Subplot(fig, 111)\n",
    "fig.add_subplot(ax)\n",
    "ax.axis[\"right\"].set_visible(False)\n",
    "ax.axis[\"top\"].set_visible(False)\n",
    "\n",
    "fig.suptitle('Different User Sizes')\n",
    "fig.set_facecolor('white')\n",
    "plt.grid(True)\n",
    "plt.xlabel('Generations')\n",
    "plt.ylabel('Fitness')\n",
    "line1 = plt.plot(x, data['100'], linewidth=1.0, label=\"100\")\n",
    "line1 = plt.plot(x, data['200'], linewidth=1.0, label=\"200\")\n",
    "line2 = plt.plot(x, data['300'], linewidth=1.0, label=\"300\")\n",
    "labels = [\"100\", \"200\", \"300\"]\n",
    "plt.legend(labels)\n",
    "plt.show()"
   ]
  },
  {
   "cell_type": "code",
   "execution_count": 8,
   "metadata": {
    "collapsed": false
   },
   "outputs": [
    {
     "data": {
      "text/plain": [
       "Gen       int64\n",
       "0         int64\n",
       "0.25    float64\n",
       "0.5     float64\n",
       "0.75    float64\n",
       "1         int64\n",
       "dtype: object"
      ]
     },
     "execution_count": 8,
     "metadata": {},
     "output_type": "execute_result"
    }
   ],
   "source": [
    "data = pd.read_csv(\"C:\\\\cygwin\\\\home\\\\Kieran\\\\FYP\\\\src\\\\main\\\\java\\\\UserProportion.csv\")\n",
    "data.dtypes"
   ]
  },
  {
   "cell_type": "code",
   "execution_count": 9,
   "metadata": {
    "collapsed": true
   },
   "outputs": [],
   "source": [
    "x = data['Gen']\n",
    "fig = plt.figure()\n",
    "ax = Subplot(fig, 111)\n",
    "fig.add_subplot(ax)\n",
    "ax.axis[\"right\"].set_visible(False)\n",
    "ax.axis[\"top\"].set_visible(False)\n",
    "\n",
    "fig.suptitle('Effect of Driver Proportion')\n",
    "fig.set_facecolor('white')\n",
    "plt.grid(True)\n",
    "plt.xlabel('Generations')\n",
    "plt.ylabel('Fitness')\n",
    "line1 = plt.plot(x, data['0'], linewidth=1.0, label=\"0\")\n",
    "line2 = plt.plot(x, data['0.25'], linewidth=1.0, label=\"0.25\")\n",
    "line3 = plt.plot(x, data['0.5'], linewidth=1.0, label=\"0.5\")\n",
    "line4 = plt.plot(x, data['0.75'], linewidth=1.0, label=\"0.75\")\n",
    "line5 = plt.plot(x, data['1'], linewidth=1.0, label=\"1\")\n",
    "\n",
    "labels = [\"0%\", \"25%\", \"50%\", \"75%\", \"100%\"]\n",
    "plt.legend(labels)\n",
    "plt.show()"
   ]
  },
  {
   "cell_type": "code",
   "execution_count": 3,
   "metadata": {
    "collapsed": false
   },
   "outputs": [
    {
     "data": {
      "text/plain": [
       "Gen          int64\n",
       "5 & 10     float64\n",
       "10 & 20    float64\n",
       "20 & 40    float64\n",
       "40 & 60    float64\n",
       "dtype: object"
      ]
     },
     "execution_count": 3,
     "metadata": {},
     "output_type": "execute_result"
    }
   ],
   "source": [
    "data = pd.read_csv(\"C:\\\\cygwin\\\\home\\\\Kieran\\\\FYP\\\\src\\\\main\\\\java\\\\Flexibility.csv\")\n",
    "data.dtypes"
   ]
  },
  {
   "cell_type": "code",
   "execution_count": 7,
   "metadata": {
    "collapsed": false,
    "scrolled": true
   },
   "outputs": [],
   "source": [
    "x = data['Gen']\n",
    "fig = plt.figure()\n",
    "ax = Subplot(fig, 111)\n",
    "fig.add_subplot(ax)\n",
    "ax.axis[\"right\"].set_visible(False)\n",
    "ax.axis[\"top\"].set_visible(False)\n",
    "\n",
    "fig.suptitle('Flexibility')\n",
    "fig.set_facecolor('white')\n",
    "plt.grid(True)\n",
    "plt.xlabel('Generations')\n",
    "plt.ylabel('Fitness')\n",
    "line1 = plt.plot(x, data['5 & 10'], linewidth=1.0, label=\"5 & 10\")\n",
    "line2 = plt.plot(x, data['10 & 20'], linewidth=1.0, label=\"10 & 20\")\n",
    "line3 = plt.plot(x, data['20 & 40'], linewidth=1.0, label=\"20 & 40\")\n",
    "line4 = plt.plot(x, data['40 & 60'], linewidth=1.0, label=\"40 & 60\")\n",
    "#line5 = plt.plot(x, data['1'], linewidth=1.0, label=\"1\")\n",
    "\n",
    "labels = [\"5 & 10\", \"10 & 20\", \"20 & 40\", \"40 & 60\"]\n",
    "plt.legend(labels)\n",
    "plt.show()"
   ]
  },
  {
   "cell_type": "code",
   "execution_count": null,
   "metadata": {
    "collapsed": true
   },
   "outputs": [],
   "source": []
  }
 ],
 "metadata": {
  "kernelspec": {
   "display_name": "Python 2",
   "language": "python",
   "name": "python2"
  },
  "language_info": {
   "codemirror_mode": {
    "name": "ipython",
    "version": 2
   },
   "file_extension": ".py",
   "mimetype": "text/x-python",
   "name": "python",
   "nbconvert_exporter": "python",
   "pygments_lexer": "ipython2",
   "version": "2.7.9"
  }
 },
 "nbformat": 4,
 "nbformat_minor": 0
}
